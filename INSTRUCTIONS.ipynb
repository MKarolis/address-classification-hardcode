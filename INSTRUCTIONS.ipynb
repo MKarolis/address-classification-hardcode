{
 "cells": [
  {
   "cell_type": "markdown",
   "id": "649a1c4f",
   "metadata": {},
   "source": [
    "# Intructions for running the solution\n",
    "## Perequisites\n",
    "- Docker installed on the host machine\n",
    "- Stable internet connection (Docker must be able to pull images from a repository)\n",
    "- An installation of `python3` along with `Pandas` library\n",
    "\n",
    "## Initial setup\n",
    "1. Build and run the docker container for `libpostal`\n",
    "\n",
    "Simply copy and paste the following command into a terminal (Git Bash, Windows PowerShell) window. Instalation can take several minutes.\n",
    "\n",
    "`docker run --name libpostal -d -p 4400:4400 pelias/libpostal-service`\n",
    "\n",
    "To stop the container: `docker stop libpostal`\n",
    "\n",
    "To start the container: `docker start libpostal`\n",
    "\n",
    "You can verify that the service is working correctly by trying to access the tool:\n",
    "```shell\n",
    "curl -s localhost:4400/parse?address=30+w+26th+st,+new+york,+ny\n",
    "[{\"label\":\"house_number\",\"value\":\"30\"},{\"label\":\"road\",\"value\":\"w 26th st\"},{\"label\":\"city\",\"value\":\"new york\"},{\"label\":\"state\",\"value\":\"ny\"}]\n",
    "```\n",
    "2. Rename the input file to `input.txt` and place it into the same directory as the script `classifier.py`\n",
    "\n",
    "## Running the solution\n",
    "3. Run the script `classifier.py`. If you're using an  `Anaconda` installation, make sure that an environment containing the `Pandas` library is activated.\n",
    "4. The program will create a file `classified.xlsx` with nicely formatted classification results. Within the code, function `classify_address` classifies addresses and returns the updated `DataFrame`.\n",
    "\n",
    "### Things to look out for\n",
    "If the script is run without the docker container up or with file `classified.xlsx` open, the program may fail."
   ]
  }
 ],
 "metadata": {
  "kernelspec": {
   "display_name": "Python 3",
   "language": "python",
   "name": "python3"
  },
  "language_info": {
   "codemirror_mode": {
    "name": "ipython",
    "version": 3
   },
   "file_extension": ".py",
   "mimetype": "text/x-python",
   "name": "python",
   "nbconvert_exporter": "python",
   "pygments_lexer": "ipython3",
   "version": "3.8.8"
  }
 },
 "nbformat": 4,
 "nbformat_minor": 5
}
